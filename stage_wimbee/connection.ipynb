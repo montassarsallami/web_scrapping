{
 "cells": [
  {
   "cell_type": "code",
   "execution_count": 1,
   "metadata": {},
   "outputs": [
    {
     "data": {
      "text/plain": [
       "<pyodbc.Cursor at 0x13b90752630>"
      ]
     },
     "execution_count": 1,
     "metadata": {},
     "output_type": "execute_result"
    }
   ],
   "source": [
    "import pyodbc\n",
    "cnxn = pyodbc.connect('DRIVER={SQL Server};Server=montassar123;Database=TutorialDB;Port=3306;User ID=sa;Password=monta ')\n",
    "cursor = cnxn.cursor() \n",
    "cursor.execute('SELECT * from monster')\n",
    "#for  row in cursor : \n",
    "#    print(type(row.description))\n"
   ]
  },
  {
   "cell_type": "code",
   "execution_count": 2,
   "metadata": {},
   "outputs": [],
   "source": [
    "i = 0\n",
    "for row in  cursor : \n",
    "\n",
    "    file = open(\"description\"+str(i)+\".txt\", \"w\" , encoding=\"utf-8\") \n",
    "    file.write(row.description) \n",
    "    file.close()\n",
    "    i+=1"
   ]
  }
 ],
 "metadata": {
  "kernelspec": {
   "display_name": "Python 3",
   "language": "python",
   "name": "python3"
  },
  "language_info": {
   "codemirror_mode": {
    "name": "ipython",
    "version": 3
   },
   "file_extension": ".py",
   "mimetype": "text/x-python",
   "name": "python",
   "nbconvert_exporter": "python",
   "pygments_lexer": "ipython3",
   "version": "3.10.4"
  },
  "orig_nbformat": 4
 },
 "nbformat": 4,
 "nbformat_minor": 2
}
